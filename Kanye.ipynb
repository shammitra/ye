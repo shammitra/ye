{
 "cells": [
  {
   "cell_type": "code",
   "execution_count": 74,
   "metadata": {},
   "outputs": [],
   "source": [
    "import requests\n",
    "import json"
   ]
  },
  {
   "cell_type": "code",
   "execution_count": 75,
   "metadata": {},
   "outputs": [
    {
     "name": "stdout",
     "output_type": "stream",
     "text": [
      "1 : Believe in your flyness...conquer your shyness.\n",
      "2 : If I don't scream, if I don't say something then no one's going to say anything.\n",
      "3 : For me, money is not my definition of success. Inspiring people is a definition of success\n",
      "4 : Burn that excel spread sheet\n",
      "5 : All you have to be is yourself\n"
     ]
    }
   ],
   "source": [
    "for i in range(5):\n",
    "    response = requests.get(\"https://api.kanye.rest\")\n",
    "    dict_response = response.json()\n",
    "    print(i+1,\":\", dict_response['quote'])"
   ]
  }
 ],
 "metadata": {
  "kernelspec": {
   "display_name": "Python 3",
   "language": "python",
   "name": "python3"
  },
  "language_info": {
   "codemirror_mode": {
    "name": "ipython",
    "version": 3
   },
   "file_extension": ".py",
   "mimetype": "text/x-python",
   "name": "python",
   "nbconvert_exporter": "python",
   "pygments_lexer": "ipython3",
   "version": "3.7.4"
  }
 },
 "nbformat": 4,
 "nbformat_minor": 2
}
